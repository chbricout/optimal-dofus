{
 "cells": [
  {
   "cell_type": "markdown",
   "metadata": {},
   "source": [
    "# Creating a Sqlite DB"
   ]
  },
  {
   "cell_type": "markdown",
   "metadata": {},
   "source": [
    "To avoid retrieving data from dofusDB with a lot of requests each time we need it, we retrieved all important data as json and we build a simple sqlite database"
   ]
  },
  {
   "cell_type": "code",
   "execution_count": 2,
   "metadata": {},
   "outputs": [],
   "source": [
    "import sqlite3\n",
    "import pandas as pd\n",
    "conn = sqlite3.connect('dofusdb.sqlite')"
   ]
  },
  {
   "cell_type": "code",
   "execution_count": 3,
   "metadata": {},
   "outputs": [
    {
     "data": {
      "text/plain": [
       "13673"
      ]
     },
     "execution_count": 3,
     "metadata": {},
     "output_type": "execute_result"
    }
   ],
   "source": [
    "df = pd.json_normalize(pd.read_json('data/map-positions.json').data)\n",
    "df_to_store = df[['id', 'posX', 'posY', 'subAreaId', 'worldMap']].set_index('id')\n",
    "df_to_store.to_sql('maps', conn, if_exists='replace', index=True)"
   ]
  },
  {
   "cell_type": "code",
   "execution_count": 5,
   "metadata": {},
   "outputs": [
    {
     "name": "stdout",
     "output_type": "stream",
     "text": [
      "Index(['_id', 'playlists', 'mapIds', 'shape', 'customWorldMap', 'monsters',\n",
      "       'entranceMapIds', 'exitMapIds', 'achievements', 'quests', 'questsIds',\n",
      "       'npcs', 'npcsIds', 'harvestables', 'id', 'nameId', 'areaId',\n",
      "       'worldmapId', 'packId', 'level', 'isConquestVillage',\n",
      "       'basicAccountAllowed', 'displayOnWorldMap', 'mountAutoTripAllowed',\n",
      "       'psiAllowed', 'capturable', 'exploreAchievementId',\n",
      "       'associatedZaapMapId', 'createdAt', 'updatedAt', '__v', 'name.de',\n",
      "       'name.en', 'name.es', 'name.fr', 'name.it', 'name.pt', 'name.id',\n",
      "       'bounds.x', 'bounds.y', 'bounds.width', 'bounds.height'],\n",
      "      dtype='object')\n"
     ]
    },
    {
     "data": {
      "text/plain": [
       "461"
      ]
     },
     "execution_count": 5,
     "metadata": {},
     "output_type": "execute_result"
    }
   ],
   "source": [
    "df = pd.json_normalize(pd.read_json('data/subareas.json').data)\n",
    "print(df.columns)\n",
    "to_store = df[['id','name.fr', 'mapIds', 'bounds.x', 'bounds.y', 'bounds.width', 'bounds.height', 'worldmapId']].set_index('id')\n",
    "to_store['mapIds'] = to_store['mapIds'].astype(str)\n",
    "to_store.rename({'name.fr':'name'})\n",
    "to_store.to_sql('subareas', conn, if_exists='replace', index=True)\n"
   ]
  },
  {
   "cell_type": "code",
   "execution_count": 6,
   "metadata": {},
   "outputs": [
    {
     "data": {
      "text/plain": [
       "name.fr                                                   Route des âmes\n",
       "mapIds                 [153879299, 153880835, 153880323, 153356296, 1...\n",
       "areaId                                                                45\n",
       "associatedZaapMapId                                                    0\n",
       "Name: 450, dtype: object"
      ]
     },
     "execution_count": 6,
     "metadata": {},
     "output_type": "execute_result"
    }
   ],
   "source": [
    "df = pd.json_normalize(pd.read_json('data/subareas.json').data).set_index('id')\n",
    "df[['name.fr', 'mapIds',  'areaId', 'associatedZaapMapId']].loc[450]"
   ]
  },
  {
   "cell_type": "code",
   "execution_count": 7,
   "metadata": {},
   "outputs": [
    {
     "data": {
      "text/plain": [
       "62"
      ]
     },
     "execution_count": 7,
     "metadata": {},
     "output_type": "execute_result"
    }
   ],
   "source": [
    "df = pd.json_normalize(pd.read_json('data/areas.json').data)\n",
    "df_to_store = df[['id', 'name.fr','superAreaId']].set_index('id')\n",
    "df_to_store.to_sql('areas', conn, if_exists='replace', index=True)"
   ]
  },
  {
   "cell_type": "code",
   "execution_count": 8,
   "metadata": {},
   "outputs": [
    {
     "data": {
      "text/plain": [
       "1929"
      ]
     },
     "execution_count": 8,
     "metadata": {},
     "output_type": "execute_result"
    }
   ],
   "source": [
    "df = pd.json_normalize(pd.read_json('data/quests.json').data)\n",
    "df_to_store = df[['id', 'name.fr', 'startCriterion', 'categoryId']].set_index('id')\n",
    "df_to_store.to_sql('quests', conn, if_exists='replace', index=True)"
   ]
  },
  {
   "cell_type": "code",
   "execution_count": 9,
   "metadata": {},
   "outputs": [],
   "source": [
    "def elements_to_text(elements):\n",
    "    text=''\n",
    "    if type(elements) != list:\n",
    "         elements = [elements]\n",
    "    for el in elements:\n",
    "            if type(el) == str:\n",
    "                text += el\n",
    "            elif type(el) == int:\n",
    "                text += str(el)\n",
    "            elif type(el) == dict and \"name\" in el and 'fr' in el['name']:\n",
    "                text += f\"{el['name']['fr']} (type: {el['type']})\"\n",
    "    return text"
   ]
  },
  {
   "cell_type": "code",
   "execution_count": 10,
   "metadata": {},
   "outputs": [
    {
     "data": {
      "text/html": [
       "<div>\n",
       "<style scoped>\n",
       "    .dataframe tbody tr th:only-of-type {\n",
       "        vertical-align: middle;\n",
       "    }\n",
       "\n",
       "    .dataframe tbody tr th {\n",
       "        vertical-align: top;\n",
       "    }\n",
       "\n",
       "    .dataframe thead th {\n",
       "        text-align: right;\n",
       "    }\n",
       "</style>\n",
       "<table border=\"1\" class=\"dataframe\">\n",
       "  <thead>\n",
       "    <tr style=\"text-align: right;\">\n",
       "      <th></th>\n",
       "      <th>typeId</th>\n",
       "      <th>text</th>\n",
       "      <th>subAreaId</th>\n",
       "      <th>questId</th>\n",
       "      <th>parameters.parameter0</th>\n",
       "      <th>parameters.parameter1</th>\n",
       "      <th>parameters.parameter2</th>\n",
       "      <th>parameters.parameter3</th>\n",
       "      <th>parameters.parameter4</th>\n",
       "    </tr>\n",
       "  </thead>\n",
       "  <tbody>\n",
       "    <tr>\n",
       "      <th>102</th>\n",
       "      <td>4</td>\n",
       "      <td>Découvrir la carte : Laboratoire Wabbit</td>\n",
       "      <td>-1</td>\n",
       "      <td>18</td>\n",
       "      <td>287243</td>\n",
       "      <td>0</td>\n",
       "      <td>0</td>\n",
       "      <td>0</td>\n",
       "      <td>0</td>\n",
       "    </tr>\n",
       "    <tr>\n",
       "      <th>104</th>\n",
       "      <td>3</td>\n",
       "      <td>Ramener à Assistant d'Otomaï (type: npcs) : x1...</td>\n",
       "      <td>10</td>\n",
       "      <td>18</td>\n",
       "      <td>119</td>\n",
       "      <td>1746</td>\n",
       "      <td>1</td>\n",
       "      <td>0</td>\n",
       "      <td>0</td>\n",
       "    </tr>\n",
       "    <tr>\n",
       "      <th>105</th>\n",
       "      <td>3</td>\n",
       "      <td>Ramener à Wogew l'hewmite (type: npcs) : x1 An...</td>\n",
       "      <td>56</td>\n",
       "      <td>18</td>\n",
       "      <td>196</td>\n",
       "      <td>1747</td>\n",
       "      <td>1</td>\n",
       "      <td>0</td>\n",
       "      <td>0</td>\n",
       "    </tr>\n",
       "    <tr>\n",
       "      <th>115</th>\n",
       "      <td>6</td>\n",
       "      <td>Vaincre x1 Wabbit Gm (type: monsters) en un se...</td>\n",
       "      <td>-1</td>\n",
       "      <td>18</td>\n",
       "      <td>182</td>\n",
       "      <td>1</td>\n",
       "      <td>0</td>\n",
       "      <td>0</td>\n",
       "      <td>0</td>\n",
       "    </tr>\n",
       "    <tr>\n",
       "      <th>133</th>\n",
       "      <td>4</td>\n",
       "      <td>Découvrir la carte : Souterrain de la Biblioth...</td>\n",
       "      <td>488</td>\n",
       "      <td>26</td>\n",
       "      <td>55374</td>\n",
       "      <td>0</td>\n",
       "      <td>0</td>\n",
       "      <td>0</td>\n",
       "      <td>0</td>\n",
       "    </tr>\n",
       "    <tr>\n",
       "      <th>...</th>\n",
       "      <td>...</td>\n",
       "      <td>...</td>\n",
       "      <td>...</td>\n",
       "      <td>...</td>\n",
       "      <td>...</td>\n",
       "      <td>...</td>\n",
       "      <td>...</td>\n",
       "      <td>...</td>\n",
       "      <td>...</td>\n",
       "    </tr>\n",
       "    <tr>\n",
       "      <th>18601</th>\n",
       "      <td>0</td>\n",
       "      <td>Choisir un altéré auprès de Profèche Orsaine</td>\n",
       "      <td>-1</td>\n",
       "      <td>2462</td>\n",
       "      <td>954792</td>\n",
       "      <td>0</td>\n",
       "      <td>0</td>\n",
       "      <td>0</td>\n",
       "      <td>0</td>\n",
       "    </tr>\n",
       "    <tr>\n",
       "      <th>18602</th>\n",
       "      <td>0</td>\n",
       "      <td>Poursuivre votre aventure en vous adressant à ...</td>\n",
       "      <td>-1</td>\n",
       "      <td>2462</td>\n",
       "      <td>954793</td>\n",
       "      <td>0</td>\n",
       "      <td>0</td>\n",
       "      <td>0</td>\n",
       "      <td>0</td>\n",
       "    </tr>\n",
       "    <tr>\n",
       "      <th>18911</th>\n",
       "      <td>4</td>\n",
       "      <td>Découvrir la carte : Intérieur de l'Auberge de...</td>\n",
       "      <td>482</td>\n",
       "      <td>2483</td>\n",
       "      <td>997946</td>\n",
       "      <td>0</td>\n",
       "      <td>0</td>\n",
       "      <td>0</td>\n",
       "      <td>0</td>\n",
       "    </tr>\n",
       "    <tr>\n",
       "      <th>18912</th>\n",
       "      <td>1</td>\n",
       "      <td>Aller voir Clionora (type: npcs)</td>\n",
       "      <td>482</td>\n",
       "      <td>2483</td>\n",
       "      <td>7037</td>\n",
       "      <td>0</td>\n",
       "      <td>0</td>\n",
       "      <td>0</td>\n",
       "      <td>0</td>\n",
       "    </tr>\n",
       "    <tr>\n",
       "      <th>18913</th>\n",
       "      <td>3</td>\n",
       "      <td>Ramener à Bob l'Enutrof (type: npcs) : x1 Slip...</td>\n",
       "      <td>541</td>\n",
       "      <td>2484</td>\n",
       "      <td>1230</td>\n",
       "      <td>10902</td>\n",
       "      <td>1</td>\n",
       "      <td>0</td>\n",
       "      <td>0</td>\n",
       "    </tr>\n",
       "  </tbody>\n",
       "</table>\n",
       "<p>15379 rows × 9 columns</p>\n",
       "</div>"
      ],
      "text/plain": [
       "       typeId                                               text  subAreaId  \\\n",
       "102         4            Découvrir la carte : Laboratoire Wabbit         -1   \n",
       "104         3  Ramener à Assistant d'Otomaï (type: npcs) : x1...         10   \n",
       "105         3  Ramener à Wogew l'hewmite (type: npcs) : x1 An...         56   \n",
       "115         6  Vaincre x1 Wabbit Gm (type: monsters) en un se...         -1   \n",
       "133         4  Découvrir la carte : Souterrain de la Biblioth...        488   \n",
       "...       ...                                                ...        ...   \n",
       "18601       0       Choisir un altéré auprès de Profèche Orsaine         -1   \n",
       "18602       0  Poursuivre votre aventure en vous adressant à ...         -1   \n",
       "18911       4  Découvrir la carte : Intérieur de l'Auberge de...        482   \n",
       "18912       1                   Aller voir Clionora (type: npcs)        482   \n",
       "18913       3  Ramener à Bob l'Enutrof (type: npcs) : x1 Slip...        541   \n",
       "\n",
       "       questId  parameters.parameter0  parameters.parameter1  \\\n",
       "102         18                 287243                      0   \n",
       "104         18                    119                   1746   \n",
       "105         18                    196                   1747   \n",
       "115         18                    182                      1   \n",
       "133         26                  55374                      0   \n",
       "...        ...                    ...                    ...   \n",
       "18601     2462                 954792                      0   \n",
       "18602     2462                 954793                      0   \n",
       "18911     2483                 997946                      0   \n",
       "18912     2483                   7037                      0   \n",
       "18913     2484                   1230                  10902   \n",
       "\n",
       "       parameters.parameter2  parameters.parameter3  parameters.parameter4  \n",
       "102                        0                      0                      0  \n",
       "104                        1                      0                      0  \n",
       "105                        1                      0                      0  \n",
       "115                        0                      0                      0  \n",
       "133                        0                      0                      0  \n",
       "...                      ...                    ...                    ...  \n",
       "18601                      0                      0                      0  \n",
       "18602                      0                      0                      0  \n",
       "18911                      0                      0                      0  \n",
       "18912                      0                      0                      0  \n",
       "18913                      1                      0                      0  \n",
       "\n",
       "[15379 rows x 9 columns]"
      ]
     },
     "execution_count": 10,
     "metadata": {},
     "output_type": "execute_result"
    }
   ],
   "source": [
    "df = pd.json_normalize(pd.read_json('data/quest-objectives.json').data)\n",
    "for param in  ['parameters.parameter0',\n",
    "'parameters.parameter1',\n",
    "'parameters.parameter2',\n",
    "'parameters.parameter3',\n",
    "'parameters.parameter4'] :\n",
    "    df[param] = df[param].fillna(-1).astype(int)\n",
    "    \n",
    "df['text']=df['text'].apply(elements_to_text)\n",
    "df_to_store = df[['id', 'typeId', 'text', 'map.subAreaId','stepId', 'parameters.parameter0',\n",
    "'parameters.parameter1',\n",
    "'parameters.parameter2',\n",
    "'parameters.parameter3',\n",
    "'parameters.parameter4'\n",
    "]].set_index('id')\n",
    "\n",
    "df_to_store['subAreaId'] = df_to_store['map.subAreaId'].fillna(-1).astype(int)\n",
    "df_steps = pd.json_normalize(pd.read_json(\"data/quest-steps.json\").data)\n",
    "df_steps = df_steps[[\"id\",\"objectiveIds\",  \"questId\"]].explode('objectiveIds').set_index(\"objectiveIds\")\n",
    "df_final = pd.concat([df_to_store,df_steps], axis=1)[[ 'typeId', 'text', 'subAreaId','questId', 'parameters.parameter0',\n",
    "'parameters.parameter1',\n",
    "'parameters.parameter2',\n",
    "'parameters.parameter3',\n",
    "'parameters.parameter4'\n",
    "]]\n",
    "df_final.to_sql('objectives', conn, if_exists='replace', index=True)\n",
    "df_final"
   ]
  },
  {
   "cell_type": "code",
   "execution_count": 11,
   "metadata": {},
   "outputs": [],
   "source": [
    "conn.close()"
   ]
  }
 ],
 "metadata": {
  "kernelspec": {
   "display_name": "tx",
   "language": "python",
   "name": "python3"
  },
  "language_info": {
   "codemirror_mode": {
    "name": "ipython",
    "version": 3
   },
   "file_extension": ".py",
   "mimetype": "text/x-python",
   "name": "python",
   "nbconvert_exporter": "python",
   "pygments_lexer": "ipython3",
   "version": "3.11.9"
  },
  "orig_nbformat": 4
 },
 "nbformat": 4,
 "nbformat_minor": 2
}
